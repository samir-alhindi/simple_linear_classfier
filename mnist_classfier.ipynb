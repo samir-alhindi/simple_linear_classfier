{
 "cells": [
  {
   "cell_type": "markdown",
   "id": "4fc25a3f-7419-4a91-a120-ae78f82608c4",
   "metadata": {},
   "source": [
    "# MNIST"
   ]
  },
  {
   "cell_type": "markdown",
   "id": "82e0b15f-59b0-4531-80e3-af6ab7ed0b6e",
   "metadata": {},
   "source": [
    "-----------------"
   ]
  },
  {
   "cell_type": "code",
   "execution_count": 60,
   "id": "2b48f715-9d39-46a4-9932-b6a2cfcfb981",
   "metadata": {},
   "outputs": [],
   "source": [
    "import numpy as np\n",
    "import matplotlib.pyplot as plt\n",
    "from keras.datasets import mnist"
   ]
  },
  {
   "cell_type": "code",
   "execution_count": 61,
   "id": "332251e0-1b31-4ca1-9df6-a07824d5714c",
   "metadata": {},
   "outputs": [
    {
     "data": {
      "image/png": "[encoded data removed]",
      "text/plain": [
       "<Figure size 640x480 with 1 Axes>"
      ]
     },
     "metadata": {},
     "output_type": "display_data"
    },
    {
     "name": "stdout",
     "output_type": "stream",
     "text": [
      "5\n"
     ]
    },
    {
     "data": {
      "image/png": "[encoded data removed]",
      "text/plain": [
       "<Figure size 640x480 with 1 Axes>"
      ]
     },
     "metadata": {},
     "output_type": "display_data"
    },
    {
     "name": "stdout",
     "output_type": "stream",
     "text": [
      "7\n"
     ]
    }
   ],
   "source": [
    "(x_train, y_train), (x_test, y_test) = mnist.load_data()\n",
    "\n",
    "for i in range(1):\n",
    "    plt.imshow(x_train[i])\n",
    "    plt.show()\n",
    "    print(y_train[i])\n",
    "    plt.imshow(x_test[i])\n",
    "    plt.show()\n",
    "    print(y_test[i])"
   ]
  },
  {
   "cell_type": "code",
   "execution_count": 62,
   "id": "beb042be-32ac-4189-9887-7eb09345feaf",
   "metadata": {},
   "outputs": [
    {
     "name": "stdout",
     "output_type": "stream",
     "text": [
      "(60000, 784)\n",
      "(10000, 784)\n"
     ]
    }
   ],
   "source": [
    "x_train, x_test = x_train / 255, x_test / 255\n",
    "x_train, x_test = x_train.reshape(len(x_train), 28 * 28), x_test.reshape(len(x_test), 28 * 28)\n",
    "print(x_train.shape)\n",
    "print(x_test.shape)"
   ]
  },
  {
   "cell_type": "code",
   "execution_count": 63,
   "id": "cc4ee836-f367-43fc-8c0a-802406c454b2",
   "metadata": {},
   "outputs": [],
   "source": [
    "W1 = np.random.randn(784, 10)\n",
    "b1 = np.random.randn(10)\n",
    "W2 = np.random.randn(10, 10)\n",
    "b2 = np.random.randn(10)\n",
    "\n",
    "def relu(x, dir=False):\n",
    "    if dir: return x > 0\n",
    "    return np.maximum(x, 0)\n",
    "\n",
    "def softmax(z):\n",
    "    z = z - z.max(1, keepdims=True)\n",
    "    e = np.exp(z)\n",
    "    return e / e.sum(1, keepdims=True)\n",
    "\n",
    "def one_hot_encode(y):\n",
    "    y_hot = np.zeros(shape=(len(y), 10))\n",
    "    for i in range(len(y)):\n",
    "        y_hot[i][y[i]] = 1\n",
    "    return y_hot\n",
    "\n",
    "def loss_function(predictions, true):\n",
    "    return predictions - true\n",
    "\n",
    "def predict(x):\n",
    "    Z1 = x.dot(W1) + b1\n",
    "    A1 = relu(Z1)\n",
    "    Z2 = A1.dot(W2) + b2\n",
    "    A2 = softmax(Z2)\n",
    "    return Z1, A1, Z2, A2\n",
    "\n",
    "def get_accuracy(predictions, Y):\n",
    "    guesses = predictions.argmax(axis=1)\n",
    "    average = 0\n",
    "    i = 0\n",
    "    while i < len(guesses):\n",
    "        if guesses[i] == Y[i]:\n",
    "            average += 1\n",
    "        i += 1\n",
    "    percent = (average / len(guesses)) * 100\n",
    "    return percent\n",
    "    \n",
    "\n",
    "def train(data, labels, epochs=300, learning_rate=0.5):\n",
    "    for i in range(epochs):\n",
    "        labels_one_hot = one_hot_encode(labels)\n",
    "        # Forward and backwards pass:\n",
    "        m = data.shape[0]\n",
    "        Z1, A1, Z2, A2 = predict(data)\n",
    "        \n",
    "        dZ2 = A2 - labels_one_hot\n",
    "        \n",
    "        dW2 = A1.T.dot(dZ2) / m\n",
    "        db2 = dZ2.sum(0) / m\n",
    "        \n",
    "        dZ1 = (dZ2.dot(W2.T)) * (Z1 > 0)  # (m,10)\n",
    "        \n",
    "        dW1 = data.T.dot(dZ1) / m      # (784,10)\n",
    "        db1 = dZ1.sum(0) / m           # (10,)\n",
    "        # Update parameters:\n",
    "        update(learning_rate, dW1, db1, dW2, db2)\n",
    "\n",
    "        if i % 20 == 0:\n",
    "            print(\"Iteration: \", i + 1)\n",
    "            predictions = predict(data)[-1]\n",
    "            print(get_accuracy(predictions, labels))\n",
    "\n",
    "def update(learning_rate, dW1, db1, dW2, db2):\n",
    "    global W1, b1, W2, b2\n",
    "    W1 = W1 - learning_rate * dW1\n",
    "    b1 = b1 - learning_rate * db1\n",
    "    W2 = W2 - learning_rate * dW2\n",
    "    b2 = b2 - learning_rate * db2"
   ]
  },
  {
   "cell_type": "code",
   "execution_count": 64,
   "id": "67303320-ae94-4f5a-b8d1-dde839fae9fe",
   "metadata": {},
   "outputs": [
    {
     "name": "stdout",
     "output_type": "stream",
     "text": [
      "Iteration:  1\n",
      "17.876666666666665\n",
      "Iteration:  21\n",
      "28.050000000000004\n",
      "Iteration:  41\n",
      "34.303333333333335\n",
      "Iteration:  61\n",
      "40.44\n",
      "Iteration:  81\n",
      "44.07333333333333\n",
      "Iteration:  101\n",
      "46.75\n",
      "Iteration:  121\n",
      "49.405\n",
      "Iteration:  141\n",
      "51.453333333333326\n",
      "Iteration:  161\n",
      "53.10666666666667\n",
      "Iteration:  181\n",
      "54.565\n",
      "Iteration:  201\n",
      "55.76333333333333\n",
      "Iteration:  221\n",
      "56.97333333333333\n",
      "Iteration:  241\n",
      "58.330000000000005\n",
      "Iteration:  261\n",
      "59.59833333333333\n",
      "Iteration:  281\n",
      "60.865\n"
     ]
    }
   ],
   "source": [
    "y_train_hot, y_test_hot = one_hot_encode(y_train), one_hot_encode(y_test)\n",
    "train(x_train, y_train)"
   ]
  },
  {
   "cell_type": "code",
   "execution_count": 65,
   "id": "3798edfd-b012-4320-b59d-af289ee3c2a8",
   "metadata": {},
   "outputs": [
    {
     "name": "stdout",
     "output_type": "stream",
     "text": [
      "60.699999999999996\n"
     ]
    }
   ],
   "source": [
    "predictions = predict(x_test)[-1]\n",
    "print(get_accuracy(predictions, y_test))"
   ]
  },
  {
   "cell_type": "code",
   "execution_count": null,
   "id": "e2b78fd4-9938-4dcc-a452-9638d1cbbf58",
   "metadata": {},
   "outputs": [],
   "source": []
  }
 ],
 "metadata": {
  "kernelspec": {
   "display_name": "Python 3 (ipykernel)",
   "language": "python",
   "name": "python3"
  },
  "language_info": {
   "codemirror_mode": {
    "name": "ipython",
    "version": 3
   },
   "file_extension": ".py",
   "mimetype": "text/x-python",
   "name": "python",
   "nbconvert_exporter": "python",
   "pygments_lexer": "ipython3",
   "version": "3.12.4"
  }
 },
 "nbformat": 4,
 "nbformat_minor": 5
}
