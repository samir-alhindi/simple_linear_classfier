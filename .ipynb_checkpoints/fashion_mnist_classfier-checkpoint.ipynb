{
 "cells": [
  {
   "cell_type": "markdown",
   "id": "eb146fcc-ca3c-46e5-b5c4-57a832d13224",
   "metadata": {},
   "source": [
    "# Fashion MNIST\n",
    "-----------------------"
   ]
  },
  {
   "cell_type": "code",
   "execution_count": 16,
   "id": "4ca2ee80-4a54-4e78-a9e8-522495f275d2",
   "metadata": {},
   "outputs": [],
   "source": [
    "import numpy as np\n",
    "import matplotlib.pyplot as plt\n",
    "from keras.datasets import fashion_mnist"
   ]
  },
  {
   "cell_type": "code",
   "execution_count": 17,
   "id": "8bc64937-be03-4cf9-a113-d0d453769a4a",
   "metadata": {},
   "outputs": [
    {
     "data": {
      "image/png": "[encoded data removed]",
      "text/plain": [
       "<Figure size 640x480 with 1 Axes>"
      ]
     },
     "metadata": {},
     "output_type": "display_data"
    },
    {
     "name": "stdout",
     "output_type": "stream",
     "text": [
      "Ankle boot\n"
     ]
    },
    {
     "data": {
      "image/png": "[encoded data removed]",
      "text/plain": [
       "<Figure size 640x480 with 1 Axes>"
      ]
     },
     "metadata": {},
     "output_type": "display_data"
    },
    {
     "name": "stdout",
     "output_type": "stream",
     "text": [
      "Ankle boot\n"
     ]
    }
   ],
   "source": [
    "(x_train, y_train), (x_test, y_test) = fashion_mnist.load_data()\n",
    "\n",
    "keys = {\n",
    "    0 :\t'T-shirt/top',\n",
    "    1 :\t'Trouser',\n",
    "    2 :\t'Pullover',\n",
    "    3 :\t'Dress',\n",
    "    4 :\t'Coat',\n",
    "    5 :\t'Sandal',\n",
    "    6 :\t'Shirt',\n",
    "    7 :\t'Sneaker',\n",
    "    8 :\t'Bag',\n",
    "    9 :\t'Ankle boot',\n",
    "}\n",
    "\n",
    "for i in range(1):\n",
    "    plt.imshow(x_train[i])\n",
    "    plt.show()\n",
    "    print(keys[y_train[i]])\n",
    "    plt.imshow(x_test[i])\n",
    "    plt.show()\n",
    "    print(keys[y_test[i]])"
   ]
  },
  {
   "cell_type": "code",
   "execution_count": 18,
   "id": "1fec9221-adb4-4f02-8234-96cb4bd5d4d2",
   "metadata": {},
   "outputs": [
    {
     "name": "stdout",
     "output_type": "stream",
     "text": [
      "(60000, 784)\n",
      "(10000, 784)\n"
     ]
    }
   ],
   "source": [
    "x_train, x_test = x_train / 255, x_test / 255\n",
    "x_train, x_test = x_train.reshape(len(x_train), 28 * 28), x_test.reshape(len(x_test), 28 * 28)\n",
    "print(x_train.shape)\n",
    "print(x_test.shape)"
   ]
  },
  {
   "cell_type": "code",
   "execution_count": 39,
   "id": "b27b8e4c-5837-48bd-81e3-7da02d85a920",
   "metadata": {},
   "outputs": [],
   "source": [
    "W1 = np.random.normal(size=(784, 32), scale=np.sqrt(2/784))\n",
    "b1 = np.zeros(shape=32)\n",
    "W2 = np.random.normal(size=(32, 10), scale=np.sqrt(2/32))\n",
    "b2 = np.zeros(shape=10)\n",
    "\n",
    "def relu(x, dir=False):\n",
    "    if dir: return x > 0\n",
    "    return np.maximum(x, 0)\n",
    "\n",
    "def softmax(z):\n",
    "    z = z - z.max(1, keepdims=True)\n",
    "    e = np.exp(z)\n",
    "    return e / e.sum(1, keepdims=True)\n",
    "\n",
    "def one_hot_encode(y):\n",
    "    y_hot = np.zeros(shape=(len(y), 10))\n",
    "    for i in range(len(y)):\n",
    "        y_hot[i][y[i]] = 1\n",
    "    return y_hot\n",
    "\n",
    "def loss_function(predictions, true):\n",
    "    return predictions - true\n",
    "\n",
    "def predict(x):\n",
    "    Z1 = x.dot(W1) + b1\n",
    "    A1 = relu(Z1)\n",
    "    Z2 = A1.dot(W2) + b2\n",
    "    A2 = softmax(Z2)\n",
    "    return Z1, A1, Z2, A2\n",
    "\n",
    "def get_accuracy(predictions, Y):\n",
    "    guesses = predictions.argmax(axis=1)\n",
    "    average = 0\n",
    "    i = 0\n",
    "    while i < len(guesses):\n",
    "        if guesses[i] == Y[i]:\n",
    "            average += 1\n",
    "        i += 1\n",
    "    percent = (average / len(guesses)) * 100\n",
    "    return percent\n",
    "    \n",
    "\n",
    "def train(data, labels, epochs=200, learning_rate=0.25):\n",
    "    for i in range(epochs):\n",
    "        labels_one_hot = one_hot_encode(labels)\n",
    "        # Forward and backwards pass:\n",
    "        m = data.shape[0]\n",
    "        Z1, A1, Z2, A2 = predict(data)\n",
    "        \n",
    "        dZ2 = A2 - labels_one_hot\n",
    "        \n",
    "        dW2 = A1.T.dot(dZ2) / m\n",
    "        db2 = dZ2.sum(0) / m\n",
    "        \n",
    "        dZ1 = (dZ2.dot(W2.T)) * (Z1 > 0)  # (m,10)\n",
    "        \n",
    "        dW1 = data.T.dot(dZ1) / m      # (784,10)\n",
    "        db1 = dZ1.sum(0) / m           # (10,)\n",
    "        # Update parameters:\n",
    "        update(learning_rate, dW1, db1, dW2, db2)\n",
    "\n",
    "        if i % 25 == 0:\n",
    "            print(\"Iteration: \", i + 1)\n",
    "            predictions = predict(data)[-1]\n",
    "            print(\n",
    "                round(get_accuracy(predictions, labels), 2)\n",
    "            )\n",
    "\n",
    "def update(learning_rate, dW1, db1, dW2, db2):\n",
    "    global W1, b1, W2, b2\n",
    "    W1 = W1 - learning_rate * dW1\n",
    "    b1 = b1 - learning_rate * db1\n",
    "    W2 = W2 - learning_rate * dW2\n",
    "    b2 = b2 - learning_rate * db2"
   ]
  },
  {
   "cell_type": "code",
   "execution_count": 40,
   "id": "1115aa84-c5cb-49a4-82b3-f0394914e9e5",
   "metadata": {},
   "outputs": [
    {
     "name": "stdout",
     "output_type": "stream",
     "text": [
      "Iteration:  1\n",
      "11.63\n",
      "Iteration:  26\n",
      "68.02\n",
      "Iteration:  51\n",
      "73.41\n",
      "Iteration:  76\n",
      "73.42\n",
      "Iteration:  101\n",
      "75.01\n",
      "Iteration:  126\n",
      "78.86\n",
      "Iteration:  151\n",
      "79.37\n",
      "Iteration:  176\n",
      "80.37\n",
      "\n",
      "\n",
      "\n"
     ]
    }
   ],
   "source": [
    "y_train_hot, y_test_hot = one_hot_encode(y_train), one_hot_encode(y_test)\n",
    "train(x_train, y_train)\n",
    "\n",
    "print(\"\\n\\n\")\n",
    "\n",
    "predictions = predict(x_test)[-1]"
   ]
  },
  {
   "cell_type": "code",
   "execution_count": null,
   "id": "66159e6b-7bb5-4a37-bf51-1712690be97b",
   "metadata": {},
   "outputs": [],
   "source": [
    "print(\"Accuracy on Test data: \", round(get_accuracy(predictions, y_test), 2), \"%\")"
   ]
  }
 ],
 "metadata": {
  "kernelspec": {
   "display_name": "Python 3 (ipykernel)",
   "language": "python",
   "name": "python3"
  },
  "language_info": {
   "codemirror_mode": {
    "name": "ipython",
    "version": 3
   },
   "file_extension": ".py",
   "mimetype": "text/x-python",
   "name": "python",
   "nbconvert_exporter": "python",
   "pygments_lexer": "ipython3",
   "version": "3.12.4"
  }
 },
 "nbformat": 4,
 "nbformat_minor": 5
}
